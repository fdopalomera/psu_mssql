{
 "cells": [
  {
   "cell_type": "code",
   "execution_count": 3,
   "metadata": {},
   "outputs": [],
   "source": [
    "from src.class_PrepPsuAccess import PrepPsuAccess\n",
    "from sqlalchemy import create_engine"
   ]
  },
  {
   "cell_type": "markdown",
   "metadata": {},
   "source": [
    "# 1. Declaración de variables a utilizar en proceso de ETL"
   ]
  },
  {
   "cell_type": "code",
   "execution_count": null,
   "metadata": {},
   "outputs": [],
   "source": [
    "# Conexión a sql server \n",
    "servername = 'localhost'\n",
    "database = 'psu'\n",
    "engine = create_engine('mssql://{}/{}?trusted_connection=yes&driver=ODBC+Driver+13+for+SQL+Server'.format(servername, database))"
   ]
  },
  {
   "cell_type": "code",
   "execution_count": null,
   "metadata": {},
   "outputs": [],
   "source": [
    "# Diccionario con nombres de columnas a cambiar, dependiendo de la tabla\n",
    "colname_dict = {\n",
    "    'b': {'INGRESO_FAMILIAR': 'INGRESO_BRUTO_FAMILIAR',\n",
    "         'INGRESO_BRUTO_FAM': 'INGRESO_BRUTO_FAMILIAR'},\n",
    "    'e': {'POND_ANO_ACAD': 'POND_AÑO_ACAD'},\n",
    "    'c': {'PTJE_LENGUAJE_Y_COMUNICACION': 'PTJE_LENGUAJE_Y_COMUNICACION_ACTUAL'}\n",
    "}\n",
    "# Diccionario con valores nulos de las tablas e\n",
    "null_e = {\n",
    "    'PTJE_RANKING': 0, \n",
    "    'PTJE_NEM': 0,\n",
    "    'LENGUAJE_Y_COMUNICACION': 0,\n",
    "    'MATEMATICA': 0, \n",
    "    'CIENCIAS': 0, \n",
    "    'HISTORIA_Y_CIENCIAS_SOCIALES': 0, \n",
    "    'LOCAL_EDUCACIONAL': 0, \n",
    "    'PROMEDIO_DE_NOTAS': 0, \n",
    "    'UNIDAD_EDUCATIVA': 0, \n",
    "    'CODIGO_REGION': 0, \n",
    "    'CODIGO_PROVINCIA': 0, \n",
    "    'CODIGO_COMUNA': 0,\n",
    "    'INGRESO_BRUTO_FAMILIAR': 0,\n",
    "    'SEXO': 0,\n",
    "    'PUNTAJE_PONDERADO': 0\n",
    "}\n",
    "# Diccionario con valores nulos de las tablas c\n",
    "null_c = {\n",
    "    'PTJE_RANKING': 0, \n",
    "    'PTJE_NEM': 0,\n",
    "    'PTJE_LENGUAJE_Y_COMUNICACION_ACTUAL': 0,\n",
    "    'PTJE_MATEMATICA_ACTUAL': 0, \n",
    "    'PTJE_CIENCIAS_ACTUAL': 0, \n",
    "    'PTJE_HISTORIA_Y_CIENCIAS_SOCIALES_ACTUAL': 0, \n",
    "    'LOCAL_EDUCACIONAL': 0, \n",
    "    'PROMEDIO_NOTAS': 0, \n",
    "    'UNIDAD_EDUCATIVA': 0, \n",
    "    'CODIGO_REGION': 0, \n",
    "    'CODIGO_PROVINCIA': 0, \n",
    "    'CODIGO_COMUNA': 0\n",
    "}\n",
    "# Diccionario con valores nulos de las tablas a\n",
    "null_a = {\n",
    "    'AÑO_PROCESO': 0,\n",
    "    'LOCAL_EDUCATIVA': 0,\n",
    "    'UNIDAD_EDUCATIVA': 0,\n",
    "    'CODIGO_COMUNA': 0\n",
    "}\n",
    "# Diccionario con valores nulos de las tablas b\n",
    "null_b = {\n",
    "    'INGRESO_BRUTO_FAMILIAR': 0\n",
    "}\n",
    "# Diccionario con los diccionarios de valores nulos por tabla\n",
    "null_dict = {'e': null_e,\n",
    "            'c': null_c,\n",
    "            'b': null_b,\n",
    "            'a': null_a}\n",
    "# Diccionario con los tipo de datos deseados por columna, para la tabla e\n",
    "dtypes_e = {\n",
    "    'AÑO_PROCESO': int, \n",
    "    'NACIONALIDAD': int, \n",
    "    'PREFERENCIA': int, \n",
    "    'SEXO': int, \n",
    "    'CODIGO': int, \n",
    "    'ESTADO_DE_POSTULACION': int, \n",
    "    'LUGAR_EN_LA_LISTA': int, \n",
    "    'PUNTAJE_PONDERADO': float, \n",
    "    'LOCAL_EDUCACIONAL': int, \n",
    "    'SITUACION_EGRESO_EDUCACIONAL': int, \n",
    "    'ROL_BASE_DATOS': int, \n",
    "    'UNIDAD_EDUCATIVA': int, \n",
    "    'COD_ENSENANZA': int, \n",
    "    'GRUPO_DEPENDENCIA': int, \n",
    "    'CODIGO_PROVINCIA': int, \n",
    "    'CODIGO_REGION': int, \n",
    "    'AÑO_DE_EGRESO': int, \n",
    "    'CODIGO_COMUNA': int, \n",
    "    'PROMEDIO_DE_NOTAS': float, \n",
    "    'PTJE_NEM': int, \n",
    "    'LENGUAJE_Y_COMUNICACION': int, \n",
    "    'PTJE_RANKING': int, \n",
    "    'HISTORIA_Y_CIENCIAS_SOCIALES': int, \n",
    "    'MATEMATICA': int, \n",
    "    'CIENCIAS': int, \n",
    "    'PERCENTIL_LM': float, \n",
    "    'PROM_LM': float, \n",
    "    'INGRESO_BRUTO_FAMILIAR': int, \n",
    "    'COD_REGION': int, \n",
    "    'COD_COMUNA': int, \n",
    "    'COD_PROVINCIA': int, \n",
    "    'NRO_TARJETA_DE_MATRICULA': int, \n",
    "    'Id': int, \n",
    "    'POND_AÑO_ACAD': int,\n",
    "    'SEXO': int,\n",
    "    'PUNTAJE_PONDERADO': float\n",
    "}\n",
    "# Diccionario con los tipo de datos deseados por columna, para la tabla c  \n",
    "dtypes_c = {\n",
    "    'PTJE_RANKING': int, \n",
    "    'PTJE_NEM': int,\n",
    "    'PTJE_LENGUAJE_Y_COMUNICACION_ACTUAL': int,\n",
    "    'PTJE_MATEMATICA_ACTUAL': int, \n",
    "    'PTJE_CIENCIAS_ACTUAL': int, \n",
    "    'PTJE_HISTORIA_Y_CIENCIAS_SOCIALES_ACTUAL': int,\n",
    "    'PROM_LM_ACTUAL': float,\n",
    "    'PROM_LM_ANTERIOR': float,\n",
    "    'LOCAL_EDUCACIONAL': int, \n",
    "    'PROMEDIO_NOTAS': float, \n",
    "    'UNIDAD_EDUCATIVA': int, \n",
    "    'CODIGO_REGION': int, \n",
    "    'CODIGO_PROVINCIA': int, \n",
    "    'CODIGO_COMUNA': int}\n",
    "# Diccionario con los tipo de datos deseados por columna, para la tabla a\n",
    "dtypes_a = {\n",
    "    'AÑO_PROCESO': int,\n",
    "    'LOCAL_EDUCATIVA': int,\n",
    "    'UNIDAD_EDUCATIVA': int,\n",
    "    'CODIGO_COMUNA': int\n",
    "}\n",
    "# Diccionario con los tipo de datos deseados por columna, para la tabla b\n",
    "dtypes_b = {'INGRESO_BRUTO_FAMILIAR': int}\n",
    "# Diccionario con los diccionarios de tipo de dato deseado de aplicar por tabla\n",
    "dtypes_dict = {'e': dtypes_e,\n",
    "               'c': dtypes_c,\n",
    "               'b': dtypes_b,\n",
    "               'a': dtypes_a}"
   ]
  },
  {
   "cell_type": "code",
   "execution_count": null,
   "metadata": {},
   "outputs": [],
   "source": [
    "# Diccionario con los transformadores deseados de aplicar por columna y por tabla \n",
    "transformer_dict = {\n",
    "    'e': {\n",
    "        'PUNTAJE_PONDERADO': lambda x: x.str[:3] + '.' + x.str[3:],\n",
    "        'PROM_LM': lambda x: x.str[:3] + '.' + x.str[3:],\n",
    "        'PROMEDIO_DE_NOTAS': lambda x: x.str[0] + '.' + x.str[1:],\n",
    "        'FECHA_NACIMIENTO': lambda x: x.str[:2] + '-' + x.str[2:4] + '-' + x.str[4:]\n",
    "    },\n",
    "    'c': {\n",
    "        'PROMEDIO_NOTAS': lambda x: x.str[0] + '.' + x.str[1:],\n",
    "        'PROM_LM_ACTUAL': lambda x: x.str[:3] + '.' + x.str[3:],\n",
    "        'PROM_LM_ANTERIOR': lambda x: x.str[:3] + '.' + x.str[3:]\n",
    "    }\n",
    "}"
   ]
  },
  {
   "cell_type": "markdown",
   "metadata": {},
   "source": [
    "# 2. Aplicación proceso de ETL"
   ]
  },
  {
   "cell_type": "markdown",
   "metadata": {},
   "source": [
    "## 2.1 PSU 2018"
   ]
  },
  {
   "cell_type": "code",
   "execution_count": null,
   "metadata": {},
   "outputs": [],
   "source": [
    "# Creación de la instancia\n",
    "file_path = r'C:\\Users\\fpalomer\\Documents\\PSU\\PSU_2018.mdb'\n",
    "p18 = PrepPsuAccess(file_path)"
   ]
  },
  {
   "cell_type": "code",
   "execution_count": null,
   "metadata": {},
   "outputs": [],
   "source": [
    "# Paso 1: Limpiar nombre de las columnas\n",
    "p18.clean_columns_name(print_results=True)"
   ]
  },
  {
   "cell_type": "code",
   "execution_count": null,
   "metadata": {},
   "outputs": [],
   "source": [
    "# Paso 2: Homogeneizar nombre de columnas\n",
    "p18.rename_columns(colname_dict)"
   ]
  },
  {
   "cell_type": "code",
   "execution_count": null,
   "metadata": {},
   "outputs": [],
   "source": [
    "# Paso 3: Transformaciones varias\n",
    "p18.transform_col(transformer_dict)"
   ]
  },
  {
   "cell_type": "code",
   "execution_count": null,
   "metadata": {},
   "outputs": [],
   "source": [
    "# Paso 4: Remover valores no númericos en columnas númericas\n",
    "p18.remove_numeric_dirtydata(dtypes_dict)"
   ]
  },
  {
   "cell_type": "code",
   "execution_count": null,
   "metadata": {},
   "outputs": [],
   "source": [
    "# Paso 5: Cambio tipo de datos\n",
    "p18.change_column_dtype(dtypes_dict)"
   ]
  },
  {
   "cell_type": "code",
   "execution_count": null,
   "metadata": {},
   "outputs": [],
   "source": [
    "# Paso 6: Quitar valores nulos conocidos\n",
    "p18.replace_null_values(null_dict)"
   ]
  },
  {
   "cell_type": "code",
   "execution_count": null,
   "metadata": {},
   "outputs": [],
   "source": [
    "# Paso 7: Cargar en sql con tipos de datos, si se asignan\n",
    "p18.to_sql(engine)"
   ]
  },
  {
   "cell_type": "code",
   "execution_count": null,
   "metadata": {},
   "outputs": [],
   "source": [
    "# Opcional\n",
    "p18.tables_to_sql(engine, ['e'], type_list=True, if_exists='replace')"
   ]
  },
  {
   "cell_type": "markdown",
   "metadata": {},
   "source": [
    "## 2.2 PSU 2017"
   ]
  },
  {
   "cell_type": "code",
   "execution_count": null,
   "metadata": {},
   "outputs": [],
   "source": [
    "# Creación de la instancia\n",
    "file_path = r\"C:\\Users\\fpalomer\\Documents\\PSU\\PSU_2017.mdb\"\n",
    "p17 = PrepPsuAccess(file_path)"
   ]
  },
  {
   "cell_type": "code",
   "execution_count": null,
   "metadata": {},
   "outputs": [],
   "source": [
    "# Paso 1: Limpiar nombre de las columnas\n",
    "p17.clean_columns_name()"
   ]
  },
  {
   "cell_type": "code",
   "execution_count": null,
   "metadata": {},
   "outputs": [],
   "source": [
    "# Paso 2: Homogeneizar nombre de columnas\n",
    "p17.rename_columns(colname_dict)"
   ]
  },
  {
   "cell_type": "code",
   "execution_count": null,
   "metadata": {},
   "outputs": [],
   "source": [
    "# Paso 3: Transformaciones varias\n",
    "p17.transform_col(transformer_dict)"
   ]
  },
  {
   "cell_type": "code",
   "execution_count": null,
   "metadata": {},
   "outputs": [],
   "source": [
    "# Paso 4: Remover valores no númericos en columnas númericas\n",
    "p17.remove_numeric_dirtydata(dtypes_dict)"
   ]
  },
  {
   "cell_type": "code",
   "execution_count": null,
   "metadata": {},
   "outputs": [],
   "source": [
    "# Paso 5: cambio de datos\n",
    "p17.change_column_dtype(dtypes_dict)"
   ]
  },
  {
   "cell_type": "code",
   "execution_count": null,
   "metadata": {},
   "outputs": [],
   "source": [
    "# Paso 6: Quitar valores nulos conocidos\n",
    "p17.replace_null_values(null_dict)"
   ]
  },
  {
   "cell_type": "code",
   "execution_count": null,
   "metadata": {},
   "outputs": [],
   "source": [
    "# Paso 7: Cargar en sql con tipos de datos, si se asignan\n",
    "p17.to_sql(engine)"
   ]
  },
  {
   "cell_type": "code",
   "execution_count": null,
   "metadata": {},
   "outputs": [],
   "source": [
    "# Opcional\n",
    "p17.tables_to_sql(engine, ['e'], type_list=True, if_exists='replace')"
   ]
  },
  {
   "cell_type": "markdown",
   "metadata": {},
   "source": [
    "## 2.3 PSU 2016"
   ]
  },
  {
   "cell_type": "code",
   "execution_count": null,
   "metadata": {},
   "outputs": [],
   "source": [
    "# Creación de la instancia\n",
    "file_path = r'C:\\Users\\fpalomer\\Documents\\PSU\\PSU_2016.mdb'\n",
    "p16 = PrepPsuAccess(file_path)"
   ]
  },
  {
   "cell_type": "code",
   "execution_count": null,
   "metadata": {},
   "outputs": [],
   "source": [
    "# Paso 1: Limpiar nombre de las columnas\n",
    "p16.clean_columns_name()"
   ]
  },
  {
   "cell_type": "code",
   "execution_count": null,
   "metadata": {},
   "outputs": [],
   "source": [
    "# Paso 2: Homogeneizar nombre de columnas\n",
    "p16.rename_columns(colname_dict)"
   ]
  },
  {
   "cell_type": "code",
   "execution_count": null,
   "metadata": {},
   "outputs": [],
   "source": [
    "# Paso 3: Transformaciones varias\n",
    "p16.transform_col(transformer_dict)"
   ]
  },
  {
   "cell_type": "code",
   "execution_count": null,
   "metadata": {},
   "outputs": [],
   "source": [
    "# Paso 4: Remover valores no númericos en columnas númericas\n",
    "p16.remove_numeric_dirtydata(dtypes_dict)"
   ]
  },
  {
   "cell_type": "code",
   "execution_count": null,
   "metadata": {},
   "outputs": [],
   "source": [
    "# Paso 5: cambio de datos\n",
    "p16.change_column_dtype(dtypes_dict)"
   ]
  },
  {
   "cell_type": "code",
   "execution_count": null,
   "metadata": {},
   "outputs": [],
   "source": [
    "# Paso 6: Quitar valores nulos conocidos\n",
    "p16.replace_null_values(null_dict)"
   ]
  },
  {
   "cell_type": "code",
   "execution_count": null,
   "metadata": {},
   "outputs": [],
   "source": [
    "\n",
    "# Paso 7: Cargar en sql con tipos de datos, si se asignan\n",
    "p16.to_sql(engine)"
   ]
  },
  {
   "cell_type": "code",
   "execution_count": null,
   "metadata": {},
   "outputs": [],
   "source": [
    "# Opcional\n",
    "p16.tables_to_sql(engine, ['e'], type_list=True, if_exists='replace')"
   ]
  },
  {
   "cell_type": "markdown",
   "metadata": {},
   "source": [
    "## 2.4 PSU 2015"
   ]
  },
  {
   "cell_type": "code",
   "execution_count": null,
   "metadata": {},
   "outputs": [],
   "source": [
    "# Creación de la instancia\n",
    "file_path = r'C:\\Users\\fpalomer\\Documents\\PSU\\PSU_2015.mdb'\n",
    "p15 = PrepPsuAccess(file_path)"
   ]
  },
  {
   "cell_type": "code",
   "execution_count": null,
   "metadata": {},
   "outputs": [],
   "source": [
    "# Paso 1: Limpiar nombre de las columnas\n",
    "p15.clean_columns_name()"
   ]
  },
  {
   "cell_type": "code",
   "execution_count": null,
   "metadata": {},
   "outputs": [],
   "source": [
    "# Paso 2: Homogeneizar nombre de columnas\n",
    "p15.rename_columns(colname_dict)"
   ]
  },
  {
   "cell_type": "code",
   "execution_count": null,
   "metadata": {},
   "outputs": [],
   "source": [
    "# Paso 3: Transformaciones varias\n",
    "p15.transform_col(transformer_dict)"
   ]
  },
  {
   "cell_type": "code",
   "execution_count": null,
   "metadata": {},
   "outputs": [],
   "source": [
    "# Paso 4: Remover valores no númericos en columnas númericas\n",
    "p15.remove_numeric_dirtydata(dtypes_dict)"
   ]
  },
  {
   "cell_type": "code",
   "execution_count": null,
   "metadata": {},
   "outputs": [],
   "source": [
    "# Paso 5: cambio de datos\n",
    "p15.change_column_dtype(dtypes_dict)"
   ]
  },
  {
   "cell_type": "code",
   "execution_count": null,
   "metadata": {},
   "outputs": [],
   "source": [
    "# Paso 6: Quitar valores nulos conocidos\n",
    "p15.replace_null_values(null_dict)"
   ]
  },
  {
   "cell_type": "code",
   "execution_count": null,
   "metadata": {},
   "outputs": [],
   "source": [
    "\n",
    "# Paso 7: Cargar en sql con tipos de datos, si se asignan\n",
    "p15.to_sql(engine)"
   ]
  },
  {
   "cell_type": "code",
   "execution_count": null,
   "metadata": {},
   "outputs": [],
   "source": [
    "# Opcional\n",
    "p15.tables_to_sql(engine, ['e'], type_list=True, if_exists='replace')"
   ]
  }
 ],
 "metadata": {
  "kernelspec": {
   "display_name": "Python 3",
   "language": "python",
   "name": "python3"
  },
  "language_info": {
   "codemirror_mode": {
    "name": "ipython",
    "version": 3
   },
   "file_extension": ".py",
   "mimetype": "text/x-python",
   "name": "python",
   "nbconvert_exporter": "python",
   "pygments_lexer": "ipython3",
   "version": "3.7.4"
  }
 },
 "nbformat": 4,
 "nbformat_minor": 4
}
