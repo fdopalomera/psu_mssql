{
 "cells": [
  {
   "cell_type": "code",
   "execution_count": 1,
   "metadata": {},
   "outputs": [],
   "source": [
    "# TODO: problema con 3 últimas filas, excepto en e"
   ]
  },
  {
   "cell_type": "code",
   "execution_count": 2,
   "metadata": {},
   "outputs": [],
   "source": [
    "from class_prep import PrepPsuAccess\n",
    "from sqlalchemy import create_engine"
   ]
  },
  {
   "cell_type": "code",
   "execution_count": 3,
   "metadata": {},
   "outputs": [],
   "source": [
    "# Creación de la instancia\n",
    "file_path = r'C:\\Users\\fpalomer\\Documents\\PSU\\PSU_2018.mdb'\n",
    "p18 = PrepPsuAccess(file_path)"
   ]
  },
  {
   "cell_type": "code",
   "execution_count": 1,
   "metadata": {},
   "outputs": [],
   "source": [
    "p18.tables['p18_e']"
   ]
  },
  {
   "cell_type": "code",
   "execution_count": 5,
   "metadata": {},
   "outputs": [
    {
     "name": "stdout",
     "output_type": "stream",
     "text": [
      "En p18_a no hubo cambios\n",
      "En p18_b no hubo cambios\n",
      "En p18_c no hubo cambios\n",
      "En p18_e no hubo cambios\n",
      "En p18_e_bea no hubo cambios\n",
      "En p18_e_pace no hubo cambios\n",
      "En p18_g no hubo cambios\n",
      "En p18_g_bea no hubo cambios\n",
      "En p18_g_pace no hubo cambios\n"
     ]
    }
   ],
   "source": [
    "p18.clean_columns_name()"
   ]
  },
  {
   "cell_type": "code",
   "execution_count": 6,
   "metadata": {},
   "outputs": [
    {
     "name": "stdout",
     "output_type": "stream",
     "text": [
      "Valores reemplazados en p18_e:\n",
      "PTJE_RANKING                      25\n",
      "PTJE_NEM                          25\n",
      "LENGUAJE_Y_COMUNICACION            0\n",
      "MATEMATICA                         0\n",
      "CIENCIAS                        5017\n",
      "HISTORIA_Y_CIENCIAS_SOCIALES    9255\n",
      "LOCAL_EDUCACIONAL                115\n",
      "PROMEDIO_DE_NOTAS                 25\n",
      "UNIDAD_EDUCATIVA                 115\n",
      "CODIGO_REGION                     37\n",
      "CODIGO_PROVINCIA                  37\n",
      "CODIGO_COMUNA                    115\n",
      "INGRESO_BRUTO_FAMILIAR          1334\n",
      "Name: added_nan_values, dtype: int64\n",
      "\n",
      "Valores reemplazados en p18_e_bea:\n",
      "PTJE_RANKING                      0\n",
      "PTJE_NEM                          0\n",
      "LENGUAJE_Y_COMUNICACION           0\n",
      "MATEMATICA                        0\n",
      "CIENCIAS                        183\n",
      "HISTORIA_Y_CIENCIAS_SOCIALES    982\n",
      "LOCAL_EDUCACIONAL                 0\n",
      "PROMEDIO_DE_NOTAS                 0\n",
      "UNIDAD_EDUCATIVA                  0\n",
      "CODIGO_REGION                     0\n",
      "CODIGO_PROVINCIA                  0\n",
      "CODIGO_COMUNA                     0\n",
      "INGRESO_BRUTO_FAMILIAR            0\n",
      "Name: added_nan_values, dtype: int64\n",
      "\n",
      "Valores reemplazados en p18_e_pace:\n",
      "PTJE_RANKING                      0\n",
      "PTJE_NEM                          0\n",
      "LENGUAJE_Y_COMUNICACION           0\n",
      "MATEMATICA                        0\n",
      "CIENCIAS                        210\n",
      "HISTORIA_Y_CIENCIAS_SOCIALES    551\n",
      "LOCAL_EDUCACIONAL                 0\n",
      "PROMEDIO_DE_NOTAS                 0\n",
      "UNIDAD_EDUCATIVA                  0\n",
      "CODIGO_REGION                     0\n",
      "CODIGO_PROVINCIA                  0\n",
      "CODIGO_COMUNA                     0\n",
      "INGRESO_BRUTO_FAMILIAR            0\n",
      "Name: added_nan_values, dtype: int64\n",
      "\n"
     ]
    }
   ],
   "source": [
    "cols_e = {\n",
    "    'PTJE_RANKING': '000', \n",
    "    'PTJE_NEM': '000',\n",
    "    'LENGUAJE_Y_COMUNICACION': '000',\n",
    "    'MATEMATICA': '000', \n",
    "    'CIENCIAS': '000', \n",
    "    'HISTORIA_Y_CIENCIAS_SOCIALES': '000', \n",
    "    'LOCAL_EDUCACIONAL': '0000', \n",
    "    'PROMEDIO_DE_NOTAS': '000', \n",
    "    'UNIDAD_EDUCATIVA': '00', \n",
    "    'CODIGO_REGION': '00', \n",
    "    'CODIGO_PROVINCIA': '000', \n",
    "    'CODIGO_COMUNA': '00000',\n",
    "    'INGRESO_BRUTO_FAMILIAR': '00'\n",
    "}\n",
    "\n",
    "p18.replace_nan_values(cols_e)"
   ]
  },
  {
   "cell_type": "code",
   "execution_count": 7,
   "metadata": {},
   "outputs": [],
   "source": [
    "dtype_dict = {\n",
    "    'TIPO_DE_IDENTIFICACION': 'VARCHAR (1)',\n",
    "    'NUMERO_DOCUMENTO': 'VARCHAR (255)',\n",
    "    'AÑO_PROCESO': 'INT', \n",
    "    'MATERNO': 'VARCHAR (255)', \n",
    "    'PATERNO': 'VARCHAR (255)', \n",
    "    'NACIONALIDAD': 'INT', \n",
    "    'NOMBRE': 'VARCHAR (255)', \n",
    "    'PREFERENCIA': 'INT', \n",
    "    'SEXO': 'INT', \n",
    "    'CODIGO': 'INT', \n",
    "    'ESTADO_DE_POSTULACION': 'INT', \n",
    "    'LUGAR_EN_LA_LISTA': 'INT', \n",
    "    'PUNTAJE_PONDERADO': 'FLOAT', \n",
    "    'BEA': 'VARCHAR (255)', \n",
    "    'LOCAL_EDUCACIONAL': 'INT', \n",
    "    'SITUACION_EGRESO_EDUCACIONAL': 'INT', \n",
    "    'ROL_BASE_DATOS': 'INT', \n",
    "    'UNIDAD_EDUCATIVA': 'INT', \n",
    "    'COD_ENSENANZA': 'INT', \n",
    "    'GRUPO_DEPENDENCIA': 'INT', \n",
    "    'RAMA_EDUCACIONAL': 'VARCHAR (255)', \n",
    "    'CODIGO_PROVINCIA': 'INT', \n",
    "    'CODIGO_REGION': 'INT', \n",
    "    'AÑO_DE_EGRESO': 'INT', \n",
    "    'CODIGO_COMUNA': 'INT', \n",
    "    'PERCENTIL_NOTAS': 'VARCHAR (255)', \n",
    "    'PROMEDIO_DE_NOTAS': 'FLOAT', \n",
    "    'PTJE_NEM': 'INT', \n",
    "    'LENGUAJE_Y_COMUNICACION': 'INT', \n",
    "    'PTJE_RANKING': 'INT', \n",
    "    'HISTORIA_Y_CIENCIAS_SOCIALES': 'INT', \n",
    "    'MATEMATICA': 'INT', \n",
    "    'CIENCIAS': 'INT', \n",
    "    'MODULO_CIENCIAS': 'VARCHAR (255)', \n",
    "    'PERCENTIL_LM': 'INT', \n",
    "    'PROM_LM': 'INT', \n",
    "    'FECHA_NACIMIENTO': 'VARCHAR(255)', \n",
    "    'CALLE': 'VARCHAR (255)', \n",
    "    'INGRESO_BRUTO_FAMILIAR': 'INT', \n",
    "    'BLOCK': 'VARCHAR (255)', \n",
    "    'NUMERO': 'VARCHAR (255)', \n",
    "    'DEPARTAMENTO': 'VARCHAR (255)', \n",
    "    'COD_REGION': 'INT', \n",
    "    'VILLA/POBLACION': 'VARCHAR (255)', \n",
    "    'COD_COMUNA': 'INT', \n",
    "    'COD_PROVINCIA': 'INT', \n",
    "    'NOMBRE_COMUNA': 'VARCHAR (255)', \n",
    "    'NOMBRE_PROVINCIA': 'VARCHAR (255)', \n",
    "    'CIUDAD': 'VARCHAR (255)', \n",
    "    'CELULAR': 'VARCHAR (255)', \n",
    "    'NUMERO_TELEFONO': 'VARCHAR (255)', \n",
    "    'EMAIL': 'VARCHAR (255)', \n",
    "    'CODIGO_INSTITUCION_EDUCACION_SUPERIOR': 'VARCHAR (255)', \n",
    "    'NRO_TARJETA_DE_MATRICULA': 'INT', \n",
    "    'Id': 'INT', \n",
    "    'POND_AÑO_ACAD': 'INT'\n",
    " }"
   ]
  },
  {
   "cell_type": "code",
   "execution_count": 8,
   "metadata": {},
   "outputs": [
    {
     "name": "stdout",
     "output_type": "stream",
     "text": [
      "NUMERO_DOCUMENTO\n",
      "TIPO_DE_IDENTIFICACION\n",
      "AÑO_PROCESO\n",
      "MATERNO\n",
      "PATERNO\n",
      "NACIONALIDAD\n",
      "NOMBRE\n",
      "PREFERENCIA\n",
      "SEXO\n",
      "CODIGO\n",
      "ESTADO_DE_POSTULACION\n",
      "LUGAR_EN_LA_LISTA\n",
      "PUNTAJE_PONDERADO\n",
      "BEA\n",
      "LOCAL_EDUCACIONAL\n",
      "SITUACION_EGRESO_EDUCACIONAL\n",
      "ROL_BASE_DATOS\n",
      "UNIDAD_EDUCATIVA\n",
      "COD_ENSENANZA\n",
      "GRUPO_DEPENDENCIA\n",
      "RAMA_EDUCACIONAL\n",
      "CODIGO_PROVINCIA\n",
      "CODIGO_REGION\n",
      "AÑO_DE_EGRESO\n",
      "CODIGO_COMUNA\n",
      "PERCENTIL_NOTAS\n",
      "PROMEDIO_DE_NOTAS\n",
      "PTJE_NEM\n",
      "LENGUAJE_Y_COMUNICACION\n",
      "PTJE_RANKING\n",
      "HISTORIA_Y_CIENCIAS_SOCIALES\n",
      "MATEMATICA\n",
      "CIENCIAS\n",
      "MODULO_CIENCIAS\n",
      "PERCENTIL_LM\n",
      "PROM_LM\n",
      "FECHA_NACIMIENTO\n",
      "CALLE\n",
      "INGRESO_BRUTO_FAMILIAR\n",
      "BLOCK\n",
      "NUMERO\n",
      "DEPARTAMENTO\n",
      "COD_REGION\n",
      "VILLA/POBLACION\n",
      "COD_COMUNA\n",
      "COD_PROVINCIA\n",
      "NOMBRE_COMUNA\n",
      "NOMBRE_PROVINCIA\n",
      "CIUDAD\n",
      "CELULAR\n",
      "NUMERO_TELEFONO\n",
      "EMAIL\n",
      "CODIGO_INSTITUCION_EDUCACION_SUPERIOR\n",
      "NRO_TARJETA_DE_MATRICULA\n",
      "Id\n",
      "POND_AÑO_ACAD\n"
     ]
    }
   ],
   "source": [
    "p18.get_columns_name('p18_e')"
   ]
  },
  {
   "cell_type": "code",
   "execution_count": 9,
   "metadata": {},
   "outputs": [
    {
     "name": "stdout",
     "output_type": "stream",
     "text": [
      "p18_e: todas las columnas iguales!\n",
      "\n"
     ]
    }
   ],
   "source": [
    "p18.compare_columns_name('p18_e', list(dtype_dict.keys()))"
   ]
  },
  {
   "cell_type": "code",
   "execution_count": 10,
   "metadata": {},
   "outputs": [
    {
     "name": "stdout",
     "output_type": "stream",
     "text": [
      "p18_e: todas las columnas iguales!\n",
      "\n",
      "p18_e_bea: todas las columnas iguales!\n",
      "\n",
      "p18_e_pace\n",
      "                               list_cols         real_cols\n",
      "0                                    BEA              PASE\n",
      "1                                CELULAR  TELEFONO_CELULAR\n",
      "2  CODIGO_INSTITUCION_EDUCACION_SUPERIOR     TELEFONO_FIJO\n",
      "3                          COD_ENSENANZA               NaN\n",
      "4                        NUMERO_TELEFONO               NaN\n",
      "5                          POND_AÑO_ACAD               NaN\n",
      "\n"
     ]
    }
   ],
   "source": [
    "p18.compare_multiple_columns(list(dtype_dict.keys()))"
   ]
  },
  {
   "cell_type": "code",
   "execution_count": 11,
   "metadata": {},
   "outputs": [
    {
     "ename": "ValueError",
     "evalue": "Table 'p18_a' already exists.",
     "output_type": "error",
     "traceback": [
      "\u001b[1;31m---------------------------------------------------------------------------\u001b[0m",
      "\u001b[1;31mValueError\u001b[0m                                Traceback (most recent call last)",
      "\u001b[1;32m<ipython-input-11-b67a026b4a37>\u001b[0m in \u001b[0;36m<module>\u001b[1;34m\u001b[0m\n\u001b[0;32m      2\u001b[0m \u001b[0mdatabase\u001b[0m \u001b[1;33m=\u001b[0m \u001b[1;34m'psu'\u001b[0m\u001b[1;33m\u001b[0m\u001b[1;33m\u001b[0m\u001b[0m\n\u001b[0;32m      3\u001b[0m \u001b[0mengine\u001b[0m \u001b[1;33m=\u001b[0m \u001b[0mcreate_engine\u001b[0m\u001b[1;33m(\u001b[0m\u001b[1;34m'mssql://{}/{}?trusted_connection=yes&driver=ODBC+Driver+13+for+SQL+Server'\u001b[0m\u001b[1;33m.\u001b[0m\u001b[0mformat\u001b[0m\u001b[1;33m(\u001b[0m\u001b[0mservername\u001b[0m\u001b[1;33m,\u001b[0m \u001b[0mdatabase\u001b[0m\u001b[1;33m)\u001b[0m\u001b[1;33m)\u001b[0m\u001b[1;33m\u001b[0m\u001b[1;33m\u001b[0m\u001b[0m\n\u001b[1;32m----> 4\u001b[1;33m \u001b[0mp18\u001b[0m\u001b[1;33m.\u001b[0m\u001b[0mto_sql\u001b[0m\u001b[1;33m(\u001b[0m\u001b[0mengine\u001b[0m\u001b[1;33m,\u001b[0m \u001b[0mdtype_dict\u001b[0m\u001b[1;33m,\u001b[0m \u001b[0mif_exists\u001b[0m\u001b[1;33m=\u001b[0m\u001b[1;34m'fail'\u001b[0m\u001b[1;33m)\u001b[0m\u001b[1;33m\u001b[0m\u001b[1;33m\u001b[0m\u001b[0m\n\u001b[0m",
      "\u001b[1;32m~\\iCloudDrive\\FEN\\Proyectos\\psu_mssql\\class_prep.py\u001b[0m in \u001b[0;36mto_sql\u001b[1;34m(self, engine, dtype_dict, if_exists)\u001b[0m\n\u001b[0;32m    132\u001b[0m                 \u001b[0mself\u001b[0m\u001b[1;33m.\u001b[0m\u001b[0mtables\u001b[0m\u001b[1;33m[\u001b[0m\u001b[0mtab_name\u001b[0m\u001b[1;33m]\u001b[0m\u001b[1;33m.\u001b[0m\u001b[0mto_sql\u001b[0m\u001b[1;33m(\u001b[0m\u001b[0mtab_name\u001b[0m\u001b[1;33m,\u001b[0m \u001b[0mengine\u001b[0m\u001b[1;33m,\u001b[0m \u001b[0mif_exists\u001b[0m\u001b[1;33m=\u001b[0m\u001b[0mif_exists\u001b[0m\u001b[1;33m,\u001b[0m \u001b[0mindex\u001b[0m\u001b[1;33m=\u001b[0m\u001b[1;32mFalse\u001b[0m\u001b[1;33m,\u001b[0m \u001b[0mdtype\u001b[0m\u001b[1;33m=\u001b[0m\u001b[0mdtype_dict\u001b[0m\u001b[1;33m)\u001b[0m\u001b[1;33m\u001b[0m\u001b[1;33m\u001b[0m\u001b[0m\n\u001b[0;32m    133\u001b[0m             \u001b[1;32melse\u001b[0m\u001b[1;33m:\u001b[0m\u001b[1;33m\u001b[0m\u001b[1;33m\u001b[0m\u001b[0m\n\u001b[1;32m--> 134\u001b[1;33m                 \u001b[0mself\u001b[0m\u001b[1;33m.\u001b[0m\u001b[0mtables\u001b[0m\u001b[1;33m[\u001b[0m\u001b[0mtab_name\u001b[0m\u001b[1;33m]\u001b[0m\u001b[1;33m.\u001b[0m\u001b[0mto_sql\u001b[0m\u001b[1;33m(\u001b[0m\u001b[0mtab_name\u001b[0m\u001b[1;33m,\u001b[0m \u001b[0mengine\u001b[0m\u001b[1;33m,\u001b[0m \u001b[0mif_exists\u001b[0m\u001b[1;33m=\u001b[0m\u001b[0mif_exists\u001b[0m\u001b[1;33m,\u001b[0m \u001b[0mindex\u001b[0m\u001b[1;33m=\u001b[0m\u001b[1;32mFalse\u001b[0m\u001b[1;33m)\u001b[0m\u001b[1;33m\u001b[0m\u001b[1;33m\u001b[0m\u001b[0m\n\u001b[0m",
      "\u001b[1;32m~\\AppData\\Local\\Continuum\\miniconda3\\lib\\site-packages\\pandas\\core\\generic.py\u001b[0m in \u001b[0;36mto_sql\u001b[1;34m(self, name, con, schema, if_exists, index, index_label, chunksize, dtype, method)\u001b[0m\n\u001b[0;32m   2710\u001b[0m             \u001b[0mchunksize\u001b[0m\u001b[1;33m=\u001b[0m\u001b[0mchunksize\u001b[0m\u001b[1;33m,\u001b[0m\u001b[1;33m\u001b[0m\u001b[1;33m\u001b[0m\u001b[0m\n\u001b[0;32m   2711\u001b[0m             \u001b[0mdtype\u001b[0m\u001b[1;33m=\u001b[0m\u001b[0mdtype\u001b[0m\u001b[1;33m,\u001b[0m\u001b[1;33m\u001b[0m\u001b[1;33m\u001b[0m\u001b[0m\n\u001b[1;32m-> 2712\u001b[1;33m             \u001b[0mmethod\u001b[0m\u001b[1;33m=\u001b[0m\u001b[0mmethod\u001b[0m\u001b[1;33m,\u001b[0m\u001b[1;33m\u001b[0m\u001b[1;33m\u001b[0m\u001b[0m\n\u001b[0m\u001b[0;32m   2713\u001b[0m         )\n\u001b[0;32m   2714\u001b[0m \u001b[1;33m\u001b[0m\u001b[0m\n",
      "\u001b[1;32m~\\AppData\\Local\\Continuum\\miniconda3\\lib\\site-packages\\pandas\\io\\sql.py\u001b[0m in \u001b[0;36mto_sql\u001b[1;34m(frame, name, con, schema, if_exists, index, index_label, chunksize, dtype, method)\u001b[0m\n\u001b[0;32m    516\u001b[0m         \u001b[0mchunksize\u001b[0m\u001b[1;33m=\u001b[0m\u001b[0mchunksize\u001b[0m\u001b[1;33m,\u001b[0m\u001b[1;33m\u001b[0m\u001b[1;33m\u001b[0m\u001b[0m\n\u001b[0;32m    517\u001b[0m         \u001b[0mdtype\u001b[0m\u001b[1;33m=\u001b[0m\u001b[0mdtype\u001b[0m\u001b[1;33m,\u001b[0m\u001b[1;33m\u001b[0m\u001b[1;33m\u001b[0m\u001b[0m\n\u001b[1;32m--> 518\u001b[1;33m         \u001b[0mmethod\u001b[0m\u001b[1;33m=\u001b[0m\u001b[0mmethod\u001b[0m\u001b[1;33m,\u001b[0m\u001b[1;33m\u001b[0m\u001b[1;33m\u001b[0m\u001b[0m\n\u001b[0m\u001b[0;32m    519\u001b[0m     )\n\u001b[0;32m    520\u001b[0m \u001b[1;33m\u001b[0m\u001b[0m\n",
      "\u001b[1;32m~\\AppData\\Local\\Continuum\\miniconda3\\lib\\site-packages\\pandas\\io\\sql.py\u001b[0m in \u001b[0;36mto_sql\u001b[1;34m(self, frame, name, if_exists, index, index_label, schema, chunksize, dtype, method)\u001b[0m\n\u001b[0;32m   1317\u001b[0m             \u001b[0mdtype\u001b[0m\u001b[1;33m=\u001b[0m\u001b[0mdtype\u001b[0m\u001b[1;33m,\u001b[0m\u001b[1;33m\u001b[0m\u001b[1;33m\u001b[0m\u001b[0m\n\u001b[0;32m   1318\u001b[0m         )\n\u001b[1;32m-> 1319\u001b[1;33m         \u001b[0mtable\u001b[0m\u001b[1;33m.\u001b[0m\u001b[0mcreate\u001b[0m\u001b[1;33m(\u001b[0m\u001b[1;33m)\u001b[0m\u001b[1;33m\u001b[0m\u001b[1;33m\u001b[0m\u001b[0m\n\u001b[0m\u001b[0;32m   1320\u001b[0m         \u001b[0mtable\u001b[0m\u001b[1;33m.\u001b[0m\u001b[0minsert\u001b[0m\u001b[1;33m(\u001b[0m\u001b[0mchunksize\u001b[0m\u001b[1;33m,\u001b[0m \u001b[0mmethod\u001b[0m\u001b[1;33m=\u001b[0m\u001b[0mmethod\u001b[0m\u001b[1;33m)\u001b[0m\u001b[1;33m\u001b[0m\u001b[1;33m\u001b[0m\u001b[0m\n\u001b[0;32m   1321\u001b[0m         \u001b[1;32mif\u001b[0m \u001b[1;32mnot\u001b[0m \u001b[0mname\u001b[0m\u001b[1;33m.\u001b[0m\u001b[0misdigit\u001b[0m\u001b[1;33m(\u001b[0m\u001b[1;33m)\u001b[0m \u001b[1;32mand\u001b[0m \u001b[1;32mnot\u001b[0m \u001b[0mname\u001b[0m\u001b[1;33m.\u001b[0m\u001b[0mislower\u001b[0m\u001b[1;33m(\u001b[0m\u001b[1;33m)\u001b[0m\u001b[1;33m:\u001b[0m\u001b[1;33m\u001b[0m\u001b[1;33m\u001b[0m\u001b[0m\n",
      "\u001b[1;32m~\\AppData\\Local\\Continuum\\miniconda3\\lib\\site-packages\\pandas\\io\\sql.py\u001b[0m in \u001b[0;36mcreate\u001b[1;34m(self)\u001b[0m\n\u001b[0;32m    642\u001b[0m             \u001b[1;32mif\u001b[0m \u001b[0mself\u001b[0m\u001b[1;33m.\u001b[0m\u001b[0mif_exists\u001b[0m \u001b[1;33m==\u001b[0m \u001b[1;34m\"fail\"\u001b[0m\u001b[1;33m:\u001b[0m\u001b[1;33m\u001b[0m\u001b[1;33m\u001b[0m\u001b[0m\n\u001b[0;32m    643\u001b[0m                 raise ValueError(\n\u001b[1;32m--> 644\u001b[1;33m                     \u001b[1;34m\"Table '{name}' already exists.\"\u001b[0m\u001b[1;33m.\u001b[0m\u001b[0mformat\u001b[0m\u001b[1;33m(\u001b[0m\u001b[0mname\u001b[0m\u001b[1;33m=\u001b[0m\u001b[0mself\u001b[0m\u001b[1;33m.\u001b[0m\u001b[0mname\u001b[0m\u001b[1;33m)\u001b[0m\u001b[1;33m\u001b[0m\u001b[1;33m\u001b[0m\u001b[0m\n\u001b[0m\u001b[0;32m    645\u001b[0m                 )\n\u001b[0;32m    646\u001b[0m             \u001b[1;32melif\u001b[0m \u001b[0mself\u001b[0m\u001b[1;33m.\u001b[0m\u001b[0mif_exists\u001b[0m \u001b[1;33m==\u001b[0m \u001b[1;34m\"replace\"\u001b[0m\u001b[1;33m:\u001b[0m\u001b[1;33m\u001b[0m\u001b[1;33m\u001b[0m\u001b[0m\n",
      "\u001b[1;31mValueError\u001b[0m: Table 'p18_a' already exists."
     ]
    }
   ],
   "source": [
    "servername = 'localhost'\n",
    "database = 'psu'\n",
    "engine = create_engine('mssql://{}/{}?trusted_connection=yes&driver=ODBC+Driver+13+for+SQL+Server'.format(servername, database))\n",
    "p18.to_sql(engine, dtype_dict, if_exists='fail')"
   ]
  },
  {
   "cell_type": "code",
   "execution_count": null,
   "metadata": {},
   "outputs": [],
   "source": [
    "#TODO Revisar con seba nombre de diccionario"
   ]
  },
  {
   "cell_type": "code",
   "execution_count": null,
   "metadata": {},
   "outputs": [],
   "source": [
    "set1 = {1,2,3,4} \n",
    "set2 = {3,4,5,6}\n",
    "set1.symmetric_difference(set2)"
   ]
  },
  {
   "cell_type": "code",
   "execution_count": null,
   "metadata": {},
   "outputs": [],
   "source": [
    "def auto_rw_dict('add','drop' or dict(tab_name:'add', tab2, 'drop'))\n",
    "    for tab_name in self.tables_name: # table names a evaluar, tipo e\n",
    "        tmp = self.compare_columns_name(tab_name, list(dtype_dict.keys()))\n",
    "        if tmp is not None:\n",
    "            if method == 'drop':\n",
    "                drop_cols = tmp['real_cols']\n",
    "                print('En {} columnas eliminadas: {}\\n'.format(tab_name))"
   ]
  }
 ],
 "metadata": {
  "kernelspec": {
   "display_name": "Python 3",
   "language": "python",
   "name": "python3"
  },
  "language_info": {
   "codemirror_mode": {
    "name": "ipython",
    "version": 3
   },
   "file_extension": ".py",
   "mimetype": "text/x-python",
   "name": "python",
   "nbconvert_exporter": "python",
   "pygments_lexer": "ipython3",
   "version": "3.7.4-final"
  }
 },
 "nbformat": 4,
 "nbformat_minor": 4
}